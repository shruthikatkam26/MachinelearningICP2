{
  "cells": [
    {
      "cell_type": "code",
      "execution_count": null,
      "id": "f7ac73a9",
      "metadata": {
        "id": "f7ac73a9",
        "outputId": "afc1a62f-266a-47ad-a7ff-86da322c1b07"
      },
      "outputs": [
        {
          "name": "stdout",
          "output_type": "stream",
          "text": [
            "Enter number of stars:5\n",
            "*\n",
            "**\n",
            "***\n",
            "****\n",
            "*****\n",
            "****\n",
            "***\n",
            "**\n",
            "*\n",
            "\n"
          ]
        }
      ],
      "source": [
        "stars = int(input('Enter number of stars:'))\n",
        "\n",
        "#looping to print * in incremental pattern\n",
        "for i in range (stars):\n",
        "    print('*'*(i+1))\n",
        "\n",
        "#looping to print * in decremental pattern\n",
        "for j in range (stars):\n",
        "    print('*'*(stars-j-1))\n"
      ]
    },
    {
      "cell_type": "code",
      "execution_count": null,
      "id": "fa70e69e",
      "metadata": {
        "id": "fa70e69e",
        "outputId": "0697e00a-bae2-437f-f146-837de5f88327"
      },
      "outputs": [
        {
          "name": "stdout",
          "output_type": "stream",
          "text": [
            "20\n",
            "40\n",
            "60\n",
            "80\n",
            "100\n"
          ]
        }
      ],
      "source": [
        "my_list = [10, 20, 30, 40, 50, 60, 70, 80, 90, 100]\n",
        "\n",
        "count=len(my_list)\n",
        "\n",
        "#looping to print the odd indices by incrementing by 2\n",
        "for i in range(1, count,2):\n",
        "    print(my_list[i])"
      ]
    },
    {
      "cell_type": "code",
      "execution_count": null,
      "id": "28d84203",
      "metadata": {
        "id": "28d84203",
        "outputId": "fa965bfc-1fb7-48f8-fee3-be5f7394cbd2"
      },
      "outputs": [
        {
          "name": "stdout",
          "output_type": "stream",
          "text": [
            "[<class 'int'>, <class 'str'>, <class 'float'>]\n"
          ]
        }
      ],
      "source": [
        "x = [23, 'Python', 23.98]\n",
        "\n",
        "#declaring an empty list\n",
        "l=[]\n",
        "\n",
        "#looping to append the type of elements in list with type() built-in function\n",
        "for i in x:\n",
        "    l.append(type(i))\n",
        "print(l)"
      ]
    },
    {
      "cell_type": "code",
      "execution_count": null,
      "id": "218c68f7",
      "metadata": {
        "id": "218c68f7",
        "outputId": "076d400f-38c7-4cee-f5ee-3a83d9be8214"
      },
      "outputs": [
        {
          "name": "stdout",
          "output_type": "stream",
          "text": [
            "The unique list from the given sample list is: [1, 2, 3, 4, 5]\n"
          ]
        }
      ],
      "source": [
        "def sample_list(l):\n",
        "\n",
        "    #declaring an empty list\n",
        "    l2=[]\n",
        "\n",
        "    #looping to append the unique list in l2 empty list\n",
        "    for i in l:\n",
        "        if i not in l2:\n",
        "            l2.append(i)\n",
        "    return l2\n",
        "\n",
        "print('The unique list from the given sample list is:', sample_list([1,2,3,3,3,3,4,5]))"
      ]
    },
    {
      "cell_type": "code",
      "execution_count": null,
      "id": "0fd0b904",
      "metadata": {
        "id": "0fd0b904",
        "outputId": "a1461763-b5a9-4f0b-a7a1-e401416fdd01"
      },
      "outputs": [
        {
          "name": "stdout",
          "output_type": "stream",
          "text": [
            "Enter a string to calculate count of upper and lower case characters:The quick Brow Fox\n",
            "No. of Upper-case characters: 3\n",
            "No. of Lower-case characters: 12\n"
          ]
        }
      ],
      "source": [
        "enter_string = input('Enter a string to calculate count of upper and lower case characters:')\n",
        "\n",
        "upper_case_count = 0\n",
        "lower_case_count = 0\n",
        "\n",
        "#looping to count the lower and upper case characters using built-in functions\n",
        "for letter in enter_string:\n",
        "    if letter.islower():\n",
        "        lower_case_count+=1\n",
        "\n",
        "    elif letter.isupper():\n",
        "        upper_case_count+=1\n",
        "\n",
        "print('No. of Upper-case characters:', upper_case_count)\n",
        "print('No. of Lower-case characters:', lower_case_count)"
      ]
    },
    {
      "cell_type": "code",
      "execution_count": null,
      "id": "c3c6a672",
      "metadata": {
        "id": "c3c6a672"
      },
      "outputs": [],
      "source": []
    },
    {
      "cell_type": "code",
      "execution_count": null,
      "id": "35f86845",
      "metadata": {
        "id": "35f86845"
      },
      "outputs": [],
      "source": []
    }
  ],
  "metadata": {
    "kernelspec": {
      "display_name": "Python 3 (ipykernel)",
      "language": "python",
      "name": "python3"
    },
    "language_info": {
      "codemirror_mode": {
        "name": "ipython",
        "version": 3
      },
      "file_extension": ".py",
      "mimetype": "text/x-python",
      "name": "python",
      "nbconvert_exporter": "python",
      "pygments_lexer": "ipython3",
      "version": "3.10.9"
    },
    "colab": {
      "provenance": []
    }
  },
  "nbformat": 4,
  "nbformat_minor": 5
}